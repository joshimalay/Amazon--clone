{
  "nbformat": 4,
  "nbformat_minor": 0,
  "metadata": {
    "colab": {
      "provenance": [],
      "authorship_tag": "ABX9TyNSRou1kJnEZDszQNvommfv",
      "include_colab_link": true
    },
    "kernelspec": {
      "name": "python3",
      "display_name": "Python 3"
    },
    "language_info": {
      "name": "python"
    }
  },
  "cells": [
    {
      "cell_type": "markdown",
      "metadata": {
        "id": "view-in-github",
        "colab_type": "text"
      },
      "source": [
        "<a href=\"https://colab.research.google.com/github/joshimalay/Amazon--clone/blob/main/Control_Statement_(conditions)_.ipynb\" target=\"_parent\"><img src=\"https://colab.research.google.com/assets/colab-badge.svg\" alt=\"Open In Colab\"/></a>"
      ]
    },
    {
      "cell_type": "code",
      "execution_count": null,
      "metadata": {
        "id": "luwNUor7BoHC"
      },
      "outputs": [],
      "source": [
        "# Syntax\n",
        "\n",
        "# if conditions...:\n",
        "#   statement1...\n",
        "#   statement2....\n",
        "# elif:\n",
        "#   Statement....\n",
        "# else:\n",
        "#   Statement3....\n"
      ]
    },
    {
      "cell_type": "code",
      "source": [],
      "metadata": {
        "id": "BKBzcVQBDcYG"
      },
      "execution_count": null,
      "outputs": []
    },
    {
      "cell_type": "code",
      "source": [
        "age =21\n",
        "\n",
        "if (age>=18):\n",
        "  print(\"A person eligible for vote\")\n",
        "else:\n",
        "  print(\"A person connot eligible for vote\")"
      ],
      "metadata": {
        "colab": {
          "base_uri": "https://localhost:8080/"
        },
        "id": "zZt9stZ-DcT_",
        "outputId": "8ba4d548-43da-4077-b971-126c1bca2289"
      },
      "execution_count": null,
      "outputs": [
        {
          "output_type": "stream",
          "name": "stdout",
          "text": [
            "A person eligible for vote\n"
          ]
        }
      ]
    },
    {
      "cell_type": "code",
      "source": [
        "age =21\n",
        "\n",
        "if (age==18 and age>=18 ):\n",
        "  print(\"A person eligible for vote\")\n",
        "else:\n",
        "  print(\"A person connot eligible for vote\")"
      ],
      "metadata": {
        "colab": {
          "base_uri": "https://localhost:8080/"
        },
        "id": "Gni9C3nBDcQW",
        "outputId": "9cc53ba7-ce88-44a6-c472-c580b21e587d"
      },
      "execution_count": null,
      "outputs": [
        {
          "output_type": "stream",
          "name": "stdout",
          "text": [
            "A person connot eligible for vote\n"
          ]
        }
      ]
    },
    {
      "cell_type": "markdown",
      "source": [
        "# **Input**"
      ],
      "metadata": {
        "id": "6FxNZjyAEcq7"
      }
    },
    {
      "cell_type": "code",
      "source": [
        "age = int(input(\"Enter the age:\"))\n",
        "\n",
        "if (age>=18):\n",
        "  print(\"A person eligible for vote\")\n",
        "else:\n",
        "  print(\"A person connot eligible for vote\")"
      ],
      "metadata": {
        "colab": {
          "base_uri": "https://localhost:8080/"
        },
        "id": "FP9U2GYwDcOu",
        "outputId": "a278af4b-e117-49e1-aa5b-183d013e8e52"
      },
      "execution_count": null,
      "outputs": [
        {
          "output_type": "stream",
          "name": "stdout",
          "text": [
            "Enter the age:34\n",
            "A person eligible for vote\n"
          ]
        }
      ]
    },
    {
      "cell_type": "code",
      "source": [
        "input()"
      ],
      "metadata": {
        "colab": {
          "base_uri": "https://localhost:8080/",
          "height": 53
        },
        "id": "30m64zznDcNL",
        "outputId": "954daa9d-5eec-4fb4-be8d-8a4e1e268844"
      },
      "execution_count": null,
      "outputs": [
        {
          "name": "stdout",
          "output_type": "stream",
          "text": [
            "34\n"
          ]
        },
        {
          "output_type": "execute_result",
          "data": {
            "text/plain": [
              "'34'"
            ],
            "application/vnd.google.colaboratory.intrinsic+json": {
              "type": "string"
            }
          },
          "metadata": {},
          "execution_count": 5
        }
      ]
    },
    {
      "cell_type": "code",
      "source": [
        "age = int(input(\"Enter the age:\"))\n",
        "age"
      ],
      "metadata": {
        "colab": {
          "base_uri": "https://localhost:8080/"
        },
        "id": "-4Wii3XbDcLP",
        "outputId": "b9933417-1a53-4169-ce7e-b7b138514d16"
      },
      "execution_count": null,
      "outputs": [
        {
          "name": "stdout",
          "output_type": "stream",
          "text": [
            "Enter the age:334\n"
          ]
        },
        {
          "output_type": "execute_result",
          "data": {
            "text/plain": [
              "334"
            ]
          },
          "metadata": {},
          "execution_count": 7
        }
      ]
    },
    {
      "cell_type": "code",
      "source": [
        "float(input(\"Enter the number:\"))"
      ],
      "metadata": {
        "colab": {
          "base_uri": "https://localhost:8080/"
        },
        "id": "IFmizlbYDcJl",
        "outputId": "40d1d3a4-7666-437f-e4a9-2c38402157e8"
      },
      "execution_count": null,
      "outputs": [
        {
          "name": "stdout",
          "output_type": "stream",
          "text": [
            "Enter the number:34\n"
          ]
        },
        {
          "output_type": "execute_result",
          "data": {
            "text/plain": [
              "34.0"
            ]
          },
          "metadata": {},
          "execution_count": 8
        }
      ]
    },
    {
      "cell_type": "code",
      "source": [
        "list(input('Enter the numbers:'))"
      ],
      "metadata": {
        "colab": {
          "base_uri": "https://localhost:8080/"
        },
        "id": "s8r1HSSdDcHY",
        "outputId": "22e483f6-afc7-4e5e-c444-ca586bb1573d"
      },
      "execution_count": null,
      "outputs": [
        {
          "name": "stdout",
          "output_type": "stream",
          "text": [
            "Enter the numbers:23,5443.2,33,22,3,2\n"
          ]
        },
        {
          "output_type": "execute_result",
          "data": {
            "text/plain": [
              "['2',\n",
              " '3',\n",
              " ',',\n",
              " '5',\n",
              " '4',\n",
              " '4',\n",
              " '3',\n",
              " '.',\n",
              " '2',\n",
              " ',',\n",
              " '3',\n",
              " '3',\n",
              " ',',\n",
              " '2',\n",
              " '2',\n",
              " ',',\n",
              " '3',\n",
              " ',',\n",
              " '2']"
            ]
          },
          "metadata": {},
          "execution_count": 9
        }
      ]
    },
    {
      "cell_type": "code",
      "source": [
        "eval(input(\"Enter the number:\"))"
      ],
      "metadata": {
        "colab": {
          "base_uri": "https://localhost:8080/"
        },
        "id": "FwgIbGS3DcFl",
        "outputId": "b94ca8d8-5e53-4a5f-8678-cd39232491d3"
      },
      "execution_count": null,
      "outputs": [
        {
          "name": "stdout",
          "output_type": "stream",
          "text": [
            "Enter the number:False\n"
          ]
        },
        {
          "output_type": "execute_result",
          "data": {
            "text/plain": [
              "False"
            ]
          },
          "metadata": {},
          "execution_count": 12
        }
      ]
    },
    {
      "cell_type": "code",
      "source": [
        "age = int(input(\"Enter the age:\"))\n",
        "print()\n",
        "if (age>=18):\n",
        "  print(\"A person eligible for vote\")\n",
        "else:\n",
        "  print(\"A person connot eligible for vote\")"
      ],
      "metadata": {
        "colab": {
          "base_uri": "https://localhost:8080/"
        },
        "id": "dSC8mqwkDcDq",
        "outputId": "425b5161-e524-48f5-dca8-a7fb392ae68f"
      },
      "execution_count": null,
      "outputs": [
        {
          "output_type": "stream",
          "name": "stdout",
          "text": [
            "Enter the age:34\n",
            "\n",
            "A person eligible for vote\n"
          ]
        }
      ]
    },
    {
      "cell_type": "markdown",
      "source": [
        "# **if - elif-else**"
      ],
      "metadata": {
        "id": "6v9XNRY_DcCN"
      }
    },
    {
      "cell_type": "code",
      "source": [
        "a = int(input(\"Enter the number:\"))\n",
        "\n",
        "if a<0:\n",
        "  print(\"Negative value\")\n",
        "elif a==0:\n",
        "  print(\"Zero value\")\n",
        "else:\n",
        "  print(\"Positive value\")"
      ],
      "metadata": {
        "colab": {
          "base_uri": "https://localhost:8080/"
        },
        "id": "QVe8LrxgDcAQ",
        "outputId": "d84f5dd4-a051-4a2a-a55f-b89f2a61287f"
      },
      "execution_count": null,
      "outputs": [
        {
          "output_type": "stream",
          "name": "stdout",
          "text": [
            "Enter the number:-67\n",
            "Negative value\n"
          ]
        }
      ]
    },
    {
      "cell_type": "code",
      "source": [
        "a = int(input(\"Enter the number:\"))\n",
        "\n",
        "if a<0:\n",
        "  print(\"Negative value\")\n",
        "elif a==0:\n",
        "  print(\"Zero value\")\n",
        "elif a>=0 and a<=50:\n",
        "  print(\"The value of a is between the zero and fifty\")\n",
        "else:\n",
        "  print(\"Positive value\")"
      ],
      "metadata": {
        "colab": {
          "base_uri": "https://localhost:8080/"
        },
        "id": "s7P9G5DHDb-l",
        "outputId": "254484d0-1786-4ff7-c8c2-98d64b985979"
      },
      "execution_count": null,
      "outputs": [
        {
          "output_type": "stream",
          "name": "stdout",
          "text": [
            "Enter the number:45\n",
            "The value of a is between the zero and fifty\n"
          ]
        }
      ]
    },
    {
      "cell_type": "markdown",
      "source": [
        "# **Nested** if-else\n"
      ],
      "metadata": {
        "id": "SoQTbWrHDb8b"
      }
    },
    {
      "cell_type": "code",
      "source": [
        "x =int(input(\"Enter the number: \"))\n",
        "if x>10:\n",
        "\n",
        "\n",
        "  if x<=20:\n",
        "    print(\"A x s between 10 and 20.\")\n",
        "  else:\n",
        "    print(\"X is more than 20\")\n",
        "\n",
        "\n",
        "else:\n",
        "  print(\"X is less than 10.\")"
      ],
      "metadata": {
        "colab": {
          "base_uri": "https://localhost:8080/"
        },
        "id": "qqf_D6s1Db61",
        "outputId": "995dcea5-0eaa-47fb-db31-168227120ec7"
      },
      "execution_count": null,
      "outputs": [
        {
          "output_type": "stream",
          "name": "stdout",
          "text": [
            "Enter the number: 10\n",
            "X is less than 10.\n"
          ]
        }
      ]
    },
    {
      "cell_type": "code",
      "source": [],
      "metadata": {
        "id": "3pMR0blVDb4-"
      },
      "execution_count": null,
      "outputs": []
    },
    {
      "cell_type": "code",
      "source": [],
      "metadata": {
        "id": "o8uLFX-2Db3a"
      },
      "execution_count": null,
      "outputs": []
    },
    {
      "cell_type": "code",
      "source": [
        "x = int(input('Enter the number: '))\n",
        "\n",
        "if x > 10:\n",
        "  if x<=20:\n",
        "    print(\"X is between 10 and 20\")\n",
        "  elif x > 20 and x<=50:\n",
        "    print(\"X is between 20 and 50\")\n",
        "  else:\n",
        "    print(\"X is more than 50\")\n",
        "\n",
        "else:\n",
        "  print(\"X is equal or less than 10 \")"
      ],
      "metadata": {
        "id": "U6Wb2sn4Db1W",
        "colab": {
          "base_uri": "https://localhost:8080/"
        },
        "outputId": "7a778ef7-8b78-4523-d4df-ded55d9a20ce"
      },
      "execution_count": null,
      "outputs": [
        {
          "output_type": "stream",
          "name": "stdout",
          "text": [
            "Enter the number: 23\n",
            "X is between 20 and 50\n"
          ]
        }
      ]
    },
    {
      "cell_type": "code",
      "source": [],
      "metadata": {
        "id": "PyjgpPC2DbzV"
      },
      "execution_count": null,
      "outputs": []
    },
    {
      "cell_type": "markdown",
      "source": [
        "# Iterative Statements - **Loops**"
      ],
      "metadata": {
        "id": "xscwOLcaDbxF"
      }
    },
    {
      "cell_type": "code",
      "source": [
        "# while\n",
        "# for"
      ],
      "metadata": {
        "id": "CJRGbNbIDbvN"
      },
      "execution_count": null,
      "outputs": []
    },
    {
      "cell_type": "code",
      "source": [
        "a =0\n",
        "\n",
        "while a <= 10:\n",
        "  print(a)\n",
        "  a +=1"
      ],
      "metadata": {
        "id": "ZtDRcSSBDbtI",
        "colab": {
          "base_uri": "https://localhost:8080/"
        },
        "outputId": "885230f6-4641-49e9-ac09-8548d13d1048"
      },
      "execution_count": null,
      "outputs": [
        {
          "output_type": "stream",
          "name": "stdout",
          "text": [
            "0\n",
            "1\n",
            "2\n",
            "3\n",
            "4\n",
            "5\n",
            "6\n",
            "7\n",
            "8\n",
            "9\n",
            "10\n"
          ]
        }
      ]
    },
    {
      "cell_type": "code",
      "source": [],
      "metadata": {
        "id": "aIzhrcz7DbrG"
      },
      "execution_count": null,
      "outputs": []
    },
    {
      "cell_type": "code",
      "source": [
        "a = 0\n",
        "while a<=10:\n",
        "  print(a)\n",
        "  a +=1\n",
        "\n",
        "print(\"LOop has been terminated \")"
      ],
      "metadata": {
        "id": "fZLPeNtcDbpb"
      },
      "execution_count": null,
      "outputs": []
    },
    {
      "cell_type": "code",
      "source": [],
      "metadata": {
        "id": "DH_ynlBmDboK"
      },
      "execution_count": null,
      "outputs": []
    },
    {
      "cell_type": "markdown",
      "source": [
        "# **For** Loop"
      ],
      "metadata": {
        "id": "rBDFY6OzDbl0"
      }
    },
    {
      "cell_type": "code",
      "source": [
        "lst = [3,4,25,6,78,4,2,2]\n",
        "lst"
      ],
      "metadata": {
        "id": "vdUKts9KDbkM",
        "colab": {
          "base_uri": "https://localhost:8080/"
        },
        "outputId": "56c9fc4b-316a-48e6-d931-dde38a99ce84"
      },
      "execution_count": null,
      "outputs": [
        {
          "output_type": "execute_result",
          "data": {
            "text/plain": [
              "[3, 4, 25, 6, 78, 4, 2, 2]"
            ]
          },
          "metadata": {},
          "execution_count": 3
        }
      ]
    },
    {
      "cell_type": "code",
      "source": [],
      "metadata": {
        "id": "eIux6c-yDbim"
      },
      "execution_count": null,
      "outputs": []
    },
    {
      "cell_type": "code",
      "source": [
        "lst = [3,4,25,6,78,4,2,2]\n",
        "for i in lst:\n",
        "  print(i)"
      ],
      "metadata": {
        "id": "_PFYZQwBDbhN",
        "colab": {
          "base_uri": "https://localhost:8080/"
        },
        "outputId": "01a5da3e-1f29-4203-8df8-fdb86d60ceed"
      },
      "execution_count": null,
      "outputs": [
        {
          "output_type": "stream",
          "name": "stdout",
          "text": [
            "3\n",
            "4\n",
            "25\n",
            "6\n",
            "78\n",
            "4\n",
            "2\n",
            "2\n"
          ]
        }
      ]
    },
    {
      "cell_type": "code",
      "source": [],
      "metadata": {
        "id": "1UMQMiOXDbfp"
      },
      "execution_count": null,
      "outputs": []
    },
    {
      "cell_type": "code",
      "source": [
        "lst = [3,4,25,6,78,4,2,2]\n",
        "\n",
        "for i in lst:\n",
        "  if i%2==0:\n",
        "    print(i)"
      ],
      "metadata": {
        "id": "JD1HL3IiDbdy",
        "colab": {
          "base_uri": "https://localhost:8080/"
        },
        "outputId": "ed79595f-10a5-4667-fe24-bd8c3b4f03ea"
      },
      "execution_count": null,
      "outputs": [
        {
          "output_type": "stream",
          "name": "stdout",
          "text": [
            "4\n",
            "6\n",
            "78\n",
            "4\n",
            "2\n",
            "2\n"
          ]
        }
      ]
    },
    {
      "cell_type": "code",
      "source": [],
      "metadata": {
        "id": "knHuaKYMDbcQ"
      },
      "execution_count": null,
      "outputs": []
    },
    {
      "cell_type": "code",
      "source": [
        "Fruits = ['apple' , 'mango' , 'orange' , 'banana' , 'kiwi']\n",
        "for Fruits in Fruits:\n",
        "  if Fruits == \"orange\":\n",
        "    print(Fruits)\n",
        "\n"
      ],
      "metadata": {
        "id": "0fKCVP5qDbac",
        "colab": {
          "base_uri": "https://localhost:8080/"
        },
        "outputId": "93375dce-95fb-4960-debd-da6783cae6da"
      },
      "execution_count": null,
      "outputs": [
        {
          "output_type": "stream",
          "name": "stdout",
          "text": [
            "orange\n"
          ]
        }
      ]
    },
    {
      "cell_type": "code",
      "source": [],
      "metadata": {
        "id": "wOpH5JKzDbYs"
      },
      "execution_count": null,
      "outputs": []
    },
    {
      "cell_type": "code",
      "source": [
        "Fruits = ['apple' , 'mango' , 'orange' , 'banana' , 'kiwi']\n",
        "\n",
        "for Fruits in Fruits:\n",
        "  if Fruits == \"orange\":\n",
        "    print(Fruits)\n",
        "  else:\n",
        "    print(\"Not found\")"
      ],
      "metadata": {
        "id": "leU8zkSIDbYJ",
        "colab": {
          "base_uri": "https://localhost:8080/"
        },
        "outputId": "45a8371a-e0b5-49ca-ffd0-6b865ab1b11d"
      },
      "execution_count": null,
      "outputs": [
        {
          "output_type": "stream",
          "name": "stdout",
          "text": [
            "Not found\n",
            "Not found\n",
            "orange\n",
            "Not found\n",
            "Not found\n"
          ]
        }
      ]
    },
    {
      "cell_type": "code",
      "source": [],
      "metadata": {
        "id": "lTz2eW6wDbT6"
      },
      "execution_count": null,
      "outputs": []
    },
    {
      "cell_type": "markdown",
      "source": [
        "Special Statements\n",
        "Break\n",
        "continue\n",
        "Pass"
      ],
      "metadata": {
        "id": "QLYQeHPjDbR0"
      }
    },
    {
      "cell_type": "code",
      "source": [],
      "metadata": {
        "id": "1dAbSHtvDZkx"
      },
      "execution_count": null,
      "outputs": []
    },
    {
      "cell_type": "markdown",
      "source": [
        "Break"
      ],
      "metadata": {
        "id": "_oU_W5PrDZeB"
      }
    },
    {
      "cell_type": "code",
      "source": [
        "Fruits = ['apple' , 'mango' , 'orange' , 'banana' , 'kiwi']\n",
        "\n",
        "for Fruits in Fruits:\n",
        "  if Fruits == \"orange\":\n",
        "    print(Fruits)\n",
        "    break\n",
        "  else:\n",
        "    print(\"Not found\")"
      ],
      "metadata": {
        "id": "RIUeKw-zDZc2",
        "colab": {
          "base_uri": "https://localhost:8080/"
        },
        "outputId": "58317c4b-2619-47c6-e4bf-61318a9eb715"
      },
      "execution_count": null,
      "outputs": [
        {
          "output_type": "stream",
          "name": "stdout",
          "text": [
            "Not found\n",
            "Not found\n",
            "orange\n"
          ]
        }
      ]
    },
    {
      "cell_type": "code",
      "source": [],
      "metadata": {
        "id": "CkU0t-nuDZbl"
      },
      "execution_count": null,
      "outputs": []
    },
    {
      "cell_type": "markdown",
      "source": [
        "Continue"
      ],
      "metadata": {
        "id": "kRLQbIhPDZTA"
      }
    },
    {
      "cell_type": "code",
      "source": [
        "Fruits = ['apple' , 'mango' , 'orange' , 'banana' , 'kiwi']\n",
        "\n",
        "for Fruits in Fruits:\n",
        "  if Fruits == \"orange\":\n",
        "        continue\n",
        "  print(Fruits)\n"
      ],
      "metadata": {
        "id": "ZtBanXO0DZRG",
        "colab": {
          "base_uri": "https://localhost:8080/"
        },
        "outputId": "1abff4b6-7ae7-4223-ab7c-e9e053cb13dc"
      },
      "execution_count": null,
      "outputs": [
        {
          "output_type": "stream",
          "name": "stdout",
          "text": [
            "apple\n",
            "mango\n",
            "banana\n",
            "kiwi\n"
          ]
        }
      ]
    },
    {
      "cell_type": "code",
      "source": [],
      "metadata": {
        "id": "BcrbCHGVDZPb"
      },
      "execution_count": null,
      "outputs": []
    },
    {
      "cell_type": "code",
      "source": [
        "Fruits = ['apple' , 'mango' , 'orange' , 'banana' , 'kiwi']\n",
        "\n",
        "for Fruits in Fruits:\n",
        "  if Fruits != \"orange\":\n",
        "    continue\n",
        "  print(Fruits)\n",
        "\n"
      ],
      "metadata": {
        "id": "To_43NMwDZNx",
        "colab": {
          "base_uri": "https://localhost:8080/"
        },
        "outputId": "9a83a566-59a3-4cfa-e524-f6f428d2d2a4"
      },
      "execution_count": null,
      "outputs": [
        {
          "output_type": "stream",
          "name": "stdout",
          "text": [
            "orange\n"
          ]
        }
      ]
    },
    {
      "cell_type": "code",
      "source": [],
      "metadata": {
        "id": "tLDMz8HdDZMO"
      },
      "execution_count": null,
      "outputs": []
    },
    {
      "cell_type": "markdown",
      "source": [
        "Pass"
      ],
      "metadata": {
        "id": "yYsRUgy7DZKl"
      }
    },
    {
      "cell_type": "code",
      "source": [
        "Fruits = ['apple' , 'mango' , 'orange' , 'banana' , 'kiwi']\n",
        "\n",
        "for Fruits in Fruits:\n",
        "  if Fruits == \"orange\":\n",
        "    pass\n",
        "  print(Fruits)\n"
      ],
      "metadata": {
        "id": "xEefslKFDZJI",
        "colab": {
          "base_uri": "https://localhost:8080/"
        },
        "outputId": "baa31f23-213a-4c0f-e333-846dbbeb90dd"
      },
      "execution_count": null,
      "outputs": [
        {
          "output_type": "stream",
          "name": "stdout",
          "text": [
            "apple\n",
            "mango\n",
            "orange\n",
            "banana\n",
            "kiwi\n"
          ]
        }
      ]
    },
    {
      "cell_type": "code",
      "source": [],
      "metadata": {
        "id": "f2bLar_3DZHU"
      },
      "execution_count": null,
      "outputs": []
    },
    {
      "cell_type": "code",
      "source": [
        "def func():\n",
        "  print(\"Malay\")"
      ],
      "metadata": {
        "id": "w1GvfK-Y6xup"
      },
      "execution_count": null,
      "outputs": []
    },
    {
      "cell_type": "code",
      "source": [
        "func()"
      ],
      "metadata": {
        "colab": {
          "base_uri": "https://localhost:8080/"
        },
        "id": "BA4eb_W46x4I",
        "outputId": "fef0df45-0569-4b11-aa82-4869b779c335"
      },
      "execution_count": null,
      "outputs": [
        {
          "output_type": "stream",
          "name": "stdout",
          "text": [
            "Malay\n"
          ]
        }
      ]
    },
    {
      "cell_type": "code",
      "source": [
        "def func_2():\n",
        "  pass"
      ],
      "metadata": {
        "id": "y61AZxHcDZCE"
      },
      "execution_count": null,
      "outputs": []
    },
    {
      "cell_type": "code",
      "source": [
        "def func_2():\n",
        "  pass\n",
        "\n",
        "def func():\n",
        "  print(\"Malay\")\n",
        "func()"
      ],
      "metadata": {
        "colab": {
          "base_uri": "https://localhost:8080/"
        },
        "id": "JSkVVEli664A",
        "outputId": "3aad7f47-a1a6-45b7-f871-78c898113c60"
      },
      "execution_count": null,
      "outputs": [
        {
          "output_type": "stream",
          "name": "stdout",
          "text": [
            "Malay\n"
          ]
        }
      ]
    },
    {
      "cell_type": "code",
      "source": [],
      "metadata": {
        "id": "gTHm3NKx66-e"
      },
      "execution_count": null,
      "outputs": []
    },
    {
      "cell_type": "code",
      "source": [],
      "metadata": {
        "id": "gnhmkOk967dS"
      },
      "execution_count": null,
      "outputs": []
    },
    {
      "cell_type": "code",
      "source": [],
      "metadata": {
        "id": "aDfviz2y67jr"
      },
      "execution_count": null,
      "outputs": []
    }
  ]
}